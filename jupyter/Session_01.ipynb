{
 "cells": [
  {
   "cell_type": "markdown",
   "id": "6b9b1824-3e7a-4e74-ae3b-56023f9263f0",
   "metadata": {},
   "source": [
    "# Session 01: 2024-09-26\n",
    "## Matteo Poggi, Phd"
   ]
  },
  {
   "cell_type": "markdown",
   "id": "c33176dc-42a5-49cf-99aa-9f9d24632167",
   "metadata": {},
   "source": [
    "## What is Python and why it is important in Data Science"
   ]
  },
  {
   "cell_type": "markdown",
   "id": "6e26522f-f9d6-4722-b801-875c1dd78e8a",
   "metadata": {},
   "source": [
    "* Python is a high-level, general-purpose programming language.\n",
    "* It is an interpreted language: when you call `python your_program.py`:\n",
    "  * the source is compiled to bytecode;\n",
    "  * the bytecode is executed on a virtual machine.\n",
    "* Wide ecosystem of tool.\n",
    "* Wide community."
   ]
  },
  {
   "cell_type": "markdown",
   "id": "7d1578ee-f9fd-4974-93b7-0de070b9995c",
   "metadata": {},
   "source": [
    "## Resources"
   ]
  },
  {
   "cell_type": "markdown",
   "id": "5434156b-f7c9-4e63-8fc6-ade3a842fcc5",
   "metadata": {
    "jp-MarkdownHeadingCollapsed": true
   },
   "source": [
    "Books:\n",
    "  * *Fluent Python* by Luciano Ramalho\n",
    "  * *Pyhon 101* by Michael Driscoll\n",
    "\n",
    "Online:\n",
    "  * [Official doc](https://docs.python.org/3/tutorial/index.html): you should use this resource as \n",
    "  * [Real Python](https://realpython.com/)"
   ]
  },
  {
   "cell_type": "markdown",
   "id": "d5fe8fd0-0732-4ec6-b87c-541a0e7b6785",
   "metadata": {},
   "source": [
    "## Surviving kit"
   ]
  },
  {
   "cell_type": "markdown",
   "id": "3232db78-4ee5-4fa6-a1e6-234ff591f16c",
   "metadata": {},
   "source": [
    "As a general rule, in Python there are no blocks like in Fortran, Pascal (delimited with (begin/)end) or C (delimited with curly braces).\n",
    "\n",
    "To introduce a block (i.e. the portion of code that is under a condition, loop etc) in Python one use semicolon `:`. The the code of the block is written increasing the indentation (usually by 4 white spaces) and the end of the block the old indentation is resumed."
   ]
  },
  {
   "cell_type": "markdown",
   "id": "5864473b-276c-4554-ac6b-0b5266d294ab",
   "metadata": {},
   "source": [
    "### Comments"
   ]
  },
  {
   "cell_type": "code",
   "execution_count": null,
   "id": "d66aa03f-9d8c-440e-b23f-6807390edc13",
   "metadata": {},
   "outputs": [],
   "source": [
    "# I'm a comment. I will be not evaluated."
   ]
  },
  {
   "cell_type": "markdown",
   "id": "9a438608-1bb5-48f0-be51-4166dc38a6d8",
   "metadata": {},
   "source": [
    "Comments do not affect the program. They however can affect the readability of your code. Good comment are very precious."
   ]
  },
  {
   "cell_type": "markdown",
   "id": "b39af005-dd01-439c-96b0-bcf158838851",
   "metadata": {},
   "source": [
    "### Importing packages..."
   ]
  },
  {
   "cell_type": "markdown",
   "id": "3dfb185a-a0c0-42f7-8aab-102b101fa14c",
   "metadata": {},
   "source": [
    "You will use many library in your programs (*do no re-invent the wheel*). To make a library available to your program you have to `import` it."
   ]
  },
  {
   "cell_type": "code",
   "execution_count": null,
   "id": "0501dead-9719-4a9f-aa9e-e7343dcfc8f1",
   "metadata": {},
   "outputs": [],
   "source": [
    "import math"
   ]
  },
  {
   "cell_type": "markdown",
   "id": "f594c81f-954d-41a1-aa6b-bbd17b3715bf",
   "metadata": {},
   "source": [
    "### ...and modules"
   ]
  },
  {
   "cell_type": "markdown",
   "id": "e4b98fef-16f3-4195-96c4-b711633d1358",
   "metadata": {},
   "source": [
    "a package can be subdiveded in modules"
   ]
  },
  {
   "cell_type": "markdown",
   "id": "dd7eb584-b13f-4079-84c4-35b3320dceec",
   "metadata": {},
   "source": [
    "```Python\n",
    "from matplotlib import pyplot # selectively import a module\n",
    "```"
   ]
  },
  {
   "cell_type": "markdown",
   "id": "4dc380b2-8f9c-41d0-ad9d-2bbb0f2b142d",
   "metadata": {},
   "source": [
    "this imports only `pyplot` module of package `matplotlib`, not the whole package."
   ]
  },
  {
   "cell_type": "markdown",
   "id": "725a8b6f-ae1b-4247-be47-af4d7ea45113",
   "metadata": {},
   "source": [
    "### print"
   ]
  },
  {
   "cell_type": "code",
   "execution_count": null,
   "id": "796010bd-d443-4f92-aa93-466fe7dc0e72",
   "metadata": {},
   "outputs": [],
   "source": [
    "print(\"I am printing a string!\")\n",
    "print(\"Hello world.\")"
   ]
  },
  {
   "cell_type": "markdown",
   "id": "8fb4700f-ed28-4a06-8443-08856f59946f",
   "metadata": {},
   "source": [
    "### conditionals"
   ]
  },
  {
   "cell_type": "markdown",
   "id": "9f384b0a-33eb-48b4-9735-a2007441d591",
   "metadata": {},
   "source": [
    "Guess. What will be printed out?"
   ]
  },
  {
   "cell_type": "code",
   "execution_count": null,
   "id": "7bd6e8bd-e215-439a-bf1f-24d2daeafd0f",
   "metadata": {},
   "outputs": [],
   "source": [
    "a = 3\n",
    "if a == 3:\n",
    "    print(\"a is 3\")                # block of code => indentation\n",
    "elif a == 5:\n",
    "    print(\"a is 5\")                # block of code => indentation\n",
    "else: \n",
    "    print(\"a is neither 3 nor 5\")  # block of code => indentation"
   ]
  },
  {
   "cell_type": "markdown",
   "id": "7bb58314-e10f-4ee9-be54-a60dc4fd1de1",
   "metadata": {},
   "source": [
    "*notice the indentation*"
   ]
  },
  {
   "cell_type": "markdown",
   "id": "fe8ce940-4d92-4b16-90bf-69e24ca4ee2d",
   "metadata": {},
   "source": [
    "### `for` loop"
   ]
  },
  {
   "cell_type": "markdown",
   "id": "acb466c8-8aad-4cef-aec1-c38a230e5d9b",
   "metadata": {},
   "source": [
    "In general loop must be avoided. In Python there are other more expressive machanisms to achieve the same goal."
   ]
  },
  {
   "cell_type": "code",
   "execution_count": null,
   "id": "a94931d6-efc7-43dc-a8b1-eb3840a3f553",
   "metadata": {},
   "outputs": [],
   "source": [
    "lecture_list = [\"first\", \"second\", \"third\"]\n",
    "\n",
    "for l in lecture_list:         # here the variable l is introduced\n",
    "    print(l)                   # here the variable l is used"
   ]
  },
  {
   "cell_type": "markdown",
   "id": "c122cdef-8c38-415e-99d1-8f61fa8a7d44",
   "metadata": {},
   "source": [
    "Here the variable `l` is introduced. At first iteration `l = \"first\"`, at second iteration `l = \"second\"`, at the third (and last) `l = \"third\"`."
   ]
  },
  {
   "cell_type": "markdown",
   "id": "a961fdc6-c0d5-484c-8a45-8aa7415e89bd",
   "metadata": {},
   "source": [
    "#### iterating on a range"
   ]
  },
  {
   "cell_type": "markdown",
   "id": "0cb33a1a-b7ba-416f-8e4d-43b7d105699b",
   "metadata": {},
   "source": [
    "* this iterates on number from 0 to 9. Often, in computer science we start conting from 0 and not from 1."
   ]
  },
  {
   "cell_type": "code",
   "execution_count": null,
   "id": "af9d0b77-cc8b-4532-a561-b02be3e4336b",
   "metadata": {},
   "outputs": [],
   "source": [
    "for i in range(10):\n",
    "    print(i)"
   ]
  },
  {
   "cell_type": "markdown",
   "id": "8faf5368-937e-45f1-9742-0cf319833ed8",
   "metadata": {},
   "source": [
    "* this iterates on number from 13 to 19."
   ]
  },
  {
   "cell_type": "code",
   "execution_count": null,
   "id": "ea65cade-776d-4c92-bb51-159092860864",
   "metadata": {},
   "outputs": [],
   "source": [
    "for i in range(13, 20):\n",
    "    print(i)"
   ]
  },
  {
   "cell_type": "markdown",
   "id": "cd790171-07cd-41c7-9176-abea40c72ba0",
   "metadata": {},
   "source": [
    "* this iterates from number -5 to 7 in setp of 2"
   ]
  },
  {
   "cell_type": "code",
   "execution_count": null,
   "id": "c5873346-ee20-4e72-a800-38f42f2180a8",
   "metadata": {},
   "outputs": [],
   "source": [
    "for i in range(-5, 8, 2):\n",
    "    print(i)"
   ]
  },
  {
   "cell_type": "markdown",
   "id": "717e4c24-6bf3-45a0-a601-6ff608989a21",
   "metadata": {},
   "source": [
    "#### altering the loop"
   ]
  },
  {
   "cell_type": "markdown",
   "id": "f649e26e-e765-4cea-9f24-8d35296a461a",
   "metadata": {},
   "source": [
    "* a `break` statement immediately exit the loop\n",
    "\n",
    "Guess. What will be printed out?"
   ]
  },
  {
   "cell_type": "code",
   "execution_count": null,
   "id": "688b2420-af37-4dbc-b46d-162d231a8bc1",
   "metadata": {},
   "outputs": [],
   "source": [
    "ecture_list = [\"first\", \"second\", \"third\"]\n",
    "\n",
    "for lecture in lecture_list:\n",
    "    print(lecture)\n",
    "    if lecture == \"second\":\n",
    "        break"
   ]
  },
  {
   "cell_type": "markdown",
   "id": "47a19dd4-cec3-44ff-a156-f6f48bea25b6",
   "metadata": {},
   "source": [
    "* a `continue` statement pass to the next iteration\n",
    "\n",
    "Guess. What will be printed out?"
   ]
  },
  {
   "cell_type": "code",
   "execution_count": null,
   "id": "0a4baffd-fe30-43ac-9763-c4c9084065da",
   "metadata": {},
   "outputs": [],
   "source": [
    "lecture_list = [\"first\", \"second\", \"third\"]\n",
    "\n",
    "for lecture in lecture_list:\n",
    "    if lecture == \"second\":\n",
    "        continue\n",
    "    print(lecture)"
   ]
  },
  {
   "cell_type": "markdown",
   "id": "7e14ff66-54af-4116-ad23-710cd97a03af",
   "metadata": {},
   "source": [
    "### `while` loop"
   ]
  },
  {
   "cell_type": "markdown",
   "id": "8c2dabae-617a-406d-8dcd-ee66dbfe7642",
   "metadata": {},
   "source": [
    "this repeat someting as long as the condition after `while` is satisfied\n",
    "\n",
    "Guess. What will be printed out?"
   ]
  },
  {
   "cell_type": "code",
   "execution_count": null,
   "id": "118c540f-fb54-4742-880c-c73ec70fa088",
   "metadata": {},
   "outputs": [],
   "source": [
    "a = 5\n",
    "\n",
    "while a > 0:\n",
    "    print(a)\n",
    "    a -= 1   # this means a = a - 1"
   ]
  },
  {
   "cell_type": "markdown",
   "id": "f676c73c-f8d3-43e0-a162-bcd5f963f380",
   "metadata": {},
   "source": [
    "### Defining a function"
   ]
  },
  {
   "cell_type": "markdown",
   "id": "fe3734d5-2683-471d-8893-571161c9a4ba",
   "metadata": {},
   "source": [
    "A program is (almost) a collection of statements. Some of these statements can be collected together in functions.\n",
    "\n",
    "A function is defined with the `def` keywords. Use `return` to return a value from a function"
   ]
  },
  {
   "cell_type": "markdown",
   "id": "38779482-7c47-4841-ac57-d748ebd5c2df",
   "metadata": {},
   "source": [
    "#### function taking no value and returning no value"
   ]
  },
  {
   "cell_type": "code",
   "execution_count": null,
   "id": "f1d9f02d-bfee-4cf6-adbd-6b0f8a580b26",
   "metadata": {},
   "outputs": [],
   "source": [
    "from datetime import datetime\n",
    "\n",
    "def print_now():               # this is a function definition\n",
    "    print(datetime.now())\n",
    "\n",
    "\n",
    "print_now()                    # this is a function call"
   ]
  },
  {
   "cell_type": "markdown",
   "id": "d79dbe0a-0782-4f44-bf3f-2a2383b26ed2",
   "metadata": {},
   "source": [
    "#### function taking a value and returning no value"
   ]
  },
  {
   "cell_type": "code",
   "execution_count": null,
   "id": "08100e4b-e667-495b-86d7-71edff77dc1d",
   "metadata": {},
   "outputs": [],
   "source": [
    "def print_hello(number_of_times):\n",
    "    for _ in range(number_of_times):       # notice the _\n",
    "        print(\"Hello!\")\n",
    "\n",
    "print_hello(5)                             # a way to call\n",
    "print(\"----\")\n",
    "print_hello(number_of_times=5)             # another way to call"
   ]
  },
  {
   "cell_type": "markdown",
   "id": "3b5ab8c8-d92e-4800-99e8-14db36574746",
   "metadata": {},
   "source": [
    "NOTE: when you have to introduce a variable but you cannot use it, it is a common convention to call it `_`.\n",
    "\n",
    "Of course the name of the variable you pass to a function does *not* have to match the name of the argument of the function:"
   ]
  },
  {
   "cell_type": "code",
   "execution_count": null,
   "id": "45e7612b-ca84-43a3-9a5a-777bb6e700f2",
   "metadata": {},
   "outputs": [],
   "source": [
    "n = 5\n",
    "\n",
    "print_hello(n)\n",
    "print(\"----\")\n",
    "print_hello(number_of_times=n)"
   ]
  },
  {
   "cell_type": "markdown",
   "id": "aa79cdea-ffef-4b08-9374-33b36d7561ff",
   "metadata": {},
   "source": [
    "A function can have one (or more) default arguments: if that argument is not passed the default is taken."
   ]
  },
  {
   "cell_type": "code",
   "execution_count": null,
   "id": "4078dad6-a5d7-4e6d-b2ad-880eb4c97c14",
   "metadata": {},
   "outputs": [],
   "source": [
    "def print_bye(number_of_times=2):\n",
    "    for _ in range(number_of_times):\n",
    "        print(\"Bye!\")\n",
    "\n",
    "print_bye(5)         # prints `bye` 5 times\n",
    "print(\"----\")\n",
    "print_bye()          # nothing is passed to `number_of_argument` so 2 is used: `bye` is printed twice."
   ]
  },
  {
   "cell_type": "markdown",
   "id": "4a77db98-4dc3-4a03-af29-9d81af05e14e",
   "metadata": {},
   "source": [
    "#### function taking no value and returning something"
   ]
  },
  {
   "cell_type": "code",
   "execution_count": null,
   "id": "801d2705-566e-48f5-a68d-703fec815014",
   "metadata": {},
   "outputs": [],
   "source": [
    "from datetime import datetime\n",
    "\n",
    "def return_now():\n",
    "    return datetime.now()     # keyword return\n",
    "\n",
    "now = return_now()\n",
    "print(now)"
   ]
  },
  {
   "cell_type": "markdown",
   "id": "a9868c11-bcfc-4872-a999-54785fa38d6c",
   "metadata": {},
   "source": [
    "#### function taking values ad returing a value"
   ]
  },
  {
   "cell_type": "code",
   "execution_count": null,
   "id": "1f47da6a-fa71-4508-bb46-96b869a7e8d6",
   "metadata": {},
   "outputs": [],
   "source": [
    "def reminder(dividend, divisor):\n",
    "    return dividend % divisor          # in Python `%` means reminder\n",
    "\n",
    "\n",
    "rem1 = reminder(10, 4)\n",
    "rem2 = reminder(dividend=10, divisor=4)\n",
    "rem3 = reminder(divisor=4, dividend=10)\n",
    "rem4 = reminder(10, divisor=4)\n",
    "\n",
    "print(rem1, rem2, rem3, rem4)"
   ]
  },
  {
   "cell_type": "markdown",
   "id": "da2e774e-7565-4aeb-a50a-9e50e9b8033c",
   "metadata": {},
   "source": [
    "Notice that there are several way to call this function. When an argument is specified by the position (like both arguments in function returning `rem1`, or the first argument in the one returning `rem4`) is called *positional*; when instead an argument is specified via a keyword it is call *keyword argument*.\n",
    "\n",
    "In a function definition:\n",
    "* if you place `/` as an argument, all the arguments before (at the left of) `/` must be positional;\n",
    "* if you place `*` as an argument, all the arguments after (at the right of) `*` must be keyword."
   ]
  },
  {
   "cell_type": "code",
   "execution_count": null,
   "id": "36990e8a-e6ba-4e19-ba5d-f92a56238703",
   "metadata": {},
   "outputs": [],
   "source": [
    "def bar(a, b, /, c, *, d=5):\n",
    "    pass    # pass means do nothing!"
   ]
  },
  {
   "cell_type": "markdown",
   "id": "f7276585-b319-4889-b0f4-d295d748fbd7",
   "metadata": {},
   "source": [
    "in the `bar` function `a` and `b` must be positional, `c` can be either positional or keyword while `d` can be keyword only. Moreover `d` is defaulted to 5. Here we list some legal call of the function"
   ]
  },
  {
   "cell_type": "code",
   "execution_count": null,
   "id": "634d3262-2aac-4ee7-8793-9df5762eefdb",
   "metadata": {},
   "outputs": [],
   "source": [
    "bar(1, 2, 3, d=7)\n",
    "bar(1, 2, 3)\n",
    "bar(1, 2, c=3, d= 42)\n",
    "bar(1, 2, c=3)\n",
    "bar(1, 2, d=45, c=53)"
   ]
  },
  {
   "cell_type": "markdown",
   "id": "97071a1b-215c-4e2f-bbfb-34d1d53d6aa5",
   "metadata": {},
   "source": [
    "please: be sure you understand why these calls are legal."
   ]
  },
  {
   "cell_type": "markdown",
   "id": "5fe862a1-158f-4110-b980-4517fb52caa0",
   "metadata": {},
   "source": [
    "#### docstring"
   ]
  },
  {
   "cell_type": "markdown",
   "id": "797c7da8-89a3-4527-8aee-d2adaef14a83",
   "metadata": {},
   "source": [
    "It is a special comment tha Pyton is able to read. It is used to document the function. Use it!"
   ]
  },
  {
   "cell_type": "code",
   "execution_count": null,
   "id": "2a59abc5-591b-4995-8886-c388706acffd",
   "metadata": {},
   "outputs": [],
   "source": [
    "def my_documented_function(x):\n",
    "    \"\"\"\n",
    "    This function print the value x\n",
    "    \"\"\"\n",
    "    print(x)"
   ]
  },
  {
   "cell_type": "markdown",
   "id": "2a5c1ba8-ee32-43fc-a4e5-c444d57db6b7",
   "metadata": {},
   "source": [
    "#### A function can have a function as its input parameters"
   ]
  },
  {
   "cell_type": "code",
   "execution_count": null,
   "id": "a28851c7-a087-4799-b8a5-0e7dbc78bddb",
   "metadata": {},
   "outputs": [],
   "source": [
    "def evaluate_on_five(func):\n",
    "    \"\"\"\n",
    "    This function evaluated the func you pass\n",
    "    on the number 5 and returns the result\n",
    "    \"\"\"\n",
    "    return func(5)   # to be a valid call `func` must be a function"
   ]
  },
  {
   "cell_type": "markdown",
   "id": "690d5785-9e87-4080-ac4b-9c68e9640cbf",
   "metadata": {},
   "source": [
    "you can pass it a func you defined.\n",
    "\n",
    "Guess. What is the result?"
   ]
  },
  {
   "cell_type": "code",
   "execution_count": null,
   "id": "a4d3c3d4-a109-4f44-b35a-5dd4e1acb4f1",
   "metadata": {},
   "outputs": [],
   "source": [
    "def add_one(x):\n",
    "    return x + 1\n",
    "\n",
    "\n",
    "evaluate_on_five(add_one)"
   ]
  },
  {
   "cell_type": "markdown",
   "id": "9a6370dd-4cf8-4699-b05e-0047410f7d74",
   "metadata": {},
   "source": [
    "This is legal. However if the function `add_one` is used only to be passed to `evaluate_to_five` it does not deserve a name..."
   ]
  },
  {
   "cell_type": "markdown",
   "id": "fb9760bd-d75c-4f4a-9a10-39c669d7729a",
   "metadata": {},
   "source": [
    "#### Anonymous functions: `lambda`"
   ]
  },
  {
   "cell_type": "markdown",
   "id": "ab9c1154-4776-49d7-ac2e-e56cd5b820fd",
   "metadata": {},
   "source": [
    "The code immediately befor can be rewritten"
   ]
  },
  {
   "cell_type": "code",
   "execution_count": null,
   "id": "814a36fb-67fe-4854-9496-e2b761f38ae0",
   "metadata": {},
   "outputs": [],
   "source": [
    "evaluate_on_five(lambda x: x + 1)"
   ]
  },
  {
   "cell_type": "markdown",
   "id": "51e47dcd-d0d1-469c-8a73-d2521ddfb267",
   "metadata": {},
   "source": [
    "It is exactly the same thing. `lambda x: x + 1` means: a(n anonymous) function that *take* x and returns x + 1."
   ]
  },
  {
   "cell_type": "markdown",
   "id": "e6337bf7-33c8-4b54-b79b-bb186abbae26",
   "metadata": {},
   "source": [
    "#### A function returning a `lambda`"
   ]
  },
  {
   "cell_type": "code",
   "execution_count": null,
   "id": "6f6493d8-ff18-4f92-8910-bf8ee25e9304",
   "metadata": {},
   "outputs": [],
   "source": [
    "def addition_factory(addendum):\n",
    "    return lambda x: x + addendum"
   ]
  },
  {
   "cell_type": "markdown",
   "id": "29b2ef68-82ab-4a45-b9e0-f5d07d88c04b",
   "metadata": {},
   "source": [
    "This function takes a number (`addendum`) and returns a function (a `lambda`) that takes a number and add it up to `addendum`"
   ]
  },
  {
   "cell_type": "code",
   "execution_count": null,
   "id": "19fdd376-fa9b-41fc-9b9a-80f68971c47e",
   "metadata": {},
   "outputs": [],
   "source": [
    "add_5 = addition_factory(5)   # remember: add_5 is a function!\n",
    "\n",
    "add_5(3)                      # and, as a function, it can be called!"
   ]
  },
  {
   "cell_type": "markdown",
   "id": "29420b61-32ef-49ad-9a34-25d99a658289",
   "metadata": {},
   "source": [
    "This is equivalent to the more verbose:"
   ]
  },
  {
   "cell_type": "code",
   "execution_count": null,
   "id": "8692f6a6-ad44-424c-8d5c-cede59f576a6",
   "metadata": {},
   "outputs": [],
   "source": [
    "def addition_factory_bis(addendum):\n",
    "    def addition_function(x):           # we define a function inside a function\n",
    "        return x + addendum\n",
    "\n",
    "    return addition_function            # and return it!\n",
    "\n",
    "\n",
    "add_42 = addition_factory_bis(42)\n",
    "\n",
    "add_42(8)"
   ]
  },
  {
   "cell_type": "markdown",
   "id": "faaf6fff-50b3-4f2a-b8a7-f3a03ccbca74",
   "metadata": {},
   "source": [
    "### and... asking for help"
   ]
  },
  {
   "cell_type": "code",
   "execution_count": null,
   "id": "ab25e10c-c6c5-4373-b2f6-dc20d1380736",
   "metadata": {},
   "outputs": [],
   "source": [
    "help(print)"
   ]
  },
  {
   "cell_type": "code",
   "execution_count": null,
   "id": "c62f1d32-b49a-4ae2-924f-5b77274a2103",
   "metadata": {},
   "outputs": [],
   "source": [
    "help(my_documented_function)"
   ]
  },
  {
   "cell_type": "markdown",
   "id": "e105795f-e6a6-4aae-9a36-602e6c3428e0",
   "metadata": {},
   "source": [
    "## Be pythonic"
   ]
  },
  {
   "cell_type": "code",
   "execution_count": null,
   "id": "158f6193-efc4-4245-a595-58a29bd44cb5",
   "metadata": {},
   "outputs": [],
   "source": [
    "import this"
   ]
  },
  {
   "cell_type": "markdown",
   "id": "f616a2ec-c745-4e42-8da1-14facd12d2a0",
   "metadata": {},
   "source": [
    "You should try not only to write program correctly... but also to be expressive in the language you are programming in."
   ]
  },
  {
   "cell_type": "markdown",
   "id": "34ec6c5f-f2c8-4df1-878b-3e58d787e2af",
   "metadata": {},
   "source": [
    "## Setting up a Pytthon development environment"
   ]
  },
  {
   "cell_type": "markdown",
   "id": "b2d6985b-d69f-4ac4-aa15-707cba391769",
   "metadata": {},
   "source": [
    "Python has tons of library. Which library should you have on your pc to use or develop a program?\n",
    "\n",
    "Two ways:\n",
    "\n",
    "1. Have every library installed globally: every program can access it:  \n",
    "   **Pros**: you save space on your disk because you do not install a library more than one times\n",
    "   **Cons**:\n",
    "     - very difficult to track dependencies: which libraries does your program really need?\n",
    "     - very difficult to distribute: which library should another user install in his/her machine?\n",
    "     - sometimes some programs relies on libraries that are incompatible one another (i.e. they cannot coexist on the same system)\n",
    "\n",
    "2. Isolate every program (or group of program) having some library installed only for it (them).\n",
    "   **Pros**: reproducible and self-contained. You need a short(er) list of dependencies.\n",
    "   **Cons**: it happens to have the same library more than once. But given the size of the storage devices, is this really a problem?\n",
    "\n",
    "\n",
    "We will go for way number **2**, in the following."
   ]
  },
  {
   "cell_type": "markdown",
   "id": "3018eccf-ccb1-4e7a-9838-4fcfe8cea413",
   "metadata": {},
   "source": [
    "### Isolating the Python environment with `venv`"
   ]
  },
  {
   "cell_type": "markdown",
   "id": "5f61a5e8-9aee-453d-ba35-027431ab4489",
   "metadata": {},
   "source": [
    "*(Native, multiplatform)*\n",
    "\n",
    "```bash\n",
    "# create new environment in the CWD\n",
    "$ python [-p <python executable>] -m venv /path_to_venv\n",
    "# activate the environment (bound to the current shell)\n",
    "$ source /path_to_venv/bin/activate\n",
    "# install packages within the environment with pip (more on pip later)\n",
    "(venv)$ pip install jupyterlab\n",
    "```\n",
    "NOTE: the Python executable must be installed system wide;\n",
    "      then, once you are into the venv the path to the python interpreter may change.\n",
    "\n",
    "Ref: [Python documentation: Creation of virtual environments](https://docs.python.org/3/library/venv.html#module-venv)"
   ]
  },
  {
   "cell_type": "markdown",
   "id": "0376f2a6-f332-4697-8e38-8e55769c5737",
   "metadata": {},
   "source": [
    "### Isolating the Python environment with Conda"
   ]
  },
  {
   "cell_type": "markdown",
   "id": "2e837114-3c47-4b95-8fa3-49ae25f0c46a",
   "metadata": {},
   "source": [
    "*(third party, also commercial, multiplatform)*\n",
    "\n",
    "Centrally manages your Python environments\n",
    "\n",
    "```bash\n",
    "# create new environment\n",
    "$ conda create --name my-env-name [python=3.5]\n",
    "# activate the environment (bound to the current shell)\n",
    "$ conda activate my-env-name\n",
    "# search and install packages within the environment\n",
    "$ conda search <pkg-name>\n",
    "$ conda install <pkg-name>\n",
    "```\n",
    "\n",
    "NOTE: very powerful if multiple python versions are needed!\n",
    "\n",
    "Ref: [Getting started with conda](https://docs.conda.io/projects/conda/en/latest/user-guide/getting-started.html)"
   ]
  },
  {
   "cell_type": "markdown",
   "id": "a3b7705e-2ac1-4062-96ac-df7f585f26a2",
   "metadata": {},
   "source": [
    "### Isolating the Python environment with Poetry"
   ]
  },
  {
   "cell_type": "markdown",
   "id": "5052f2b8-19e2-4a69-8289-fd075b41a435",
   "metadata": {},
   "source": [
    "*(third party, multiplatform)*\n",
    "\n",
    "Works also somewhat as project templating manager.\n",
    "\n",
    "```bash\n",
    "# creates new project in new folder `prj`\n",
    "$ poetry new prj\n",
    "$ ls --tree prj\n",
    "prj\n",
    "├── prj\n",
    "│  └── __init__.py\n",
    "├── pyproject.toml\n",
    "├── README.md\n",
    "└── tests\n",
    "   └── __init__.py\n",
    "```\n",
    "\n",
    "```bash\n",
    "# install packages\n",
    "$ poetry add <pkg-name>\n",
    "# install project and its dependencies in the venv\n",
    "$ poetry install\n",
    "```\n",
    "\n",
    "Ref: [Poetry: Basic usage](https://python-poetry.org/docs/basic-usage/)\n",
    "\n",
    "Please: take a look to a typical project structure. Note the presence of `tests` folder."
   ]
  },
  {
   "cell_type": "markdown",
   "id": "e5b889ee-8730-4021-986f-ae2091a15606",
   "metadata": {},
   "source": [
    "## Package Management"
   ]
  },
  {
   "cell_type": "markdown",
   "id": "810062fe-3eb3-453a-8fe1-b2516ea2c4fb",
   "metadata": {},
   "source": [
    "### Python Package Index (PyPI)"
   ]
  },
  {
   "cell_type": "markdown",
   "id": "bdc69748-dbd6-4ca3-acee-d0d8a79f2c10",
   "metadata": {},
   "source": [
    "* repository for most third party libraries\n",
    "* https://pypi.org\n",
    "\n",
    "Please: take a look!"
   ]
  },
  {
   "cell_type": "markdown",
   "id": "e3270ef1-ef5c-4f17-98c3-4b4a05bd34a5",
   "metadata": {},
   "source": [
    "### Package Installer for Python (PIP)"
   ]
  },
  {
   "cell_type": "markdown",
   "id": "409f4c46-3e1d-47a9-bb4e-84af6f0df261",
   "metadata": {},
   "source": [
    "* `pip` is the most low level way to install packages to a python environment\n",
    "\n",
    "```bash\n",
    "# install [upgrade] a package\n",
    "(venv)$ pip install [-U, --upgrade] <pkg-name>\n",
    "# uninstall\n",
    "(venv)$ pip uninstall <pkg-name>\n",
    "# outputs to the file `requirements.txt` all the package installed in this envirnoment\n",
    "(venv)$ pip freeze > requirements.txt\n",
    "# install all the requirements in the file `requirements.txt`\n",
    "(venv)$ pip install -r requirements.txt"
   ]
  },
  {
   "cell_type": "markdown",
   "id": "063dad06-c3af-4329-9696-361fb7174a03",
   "metadata": {},
   "source": [
    "Usually, when you download a project, it comes with a `requirements.txt` file. Then, to install all the dependencies needed to the project you just need to do `pip install -r requirements.txt`. In this way it is very useful to distribute software."
   ]
  },
  {
   "cell_type": "markdown",
   "id": "1680c539-b426-4611-80c7-1f8676c83af1",
   "metadata": {},
   "source": [
    "### Some tips"
   ]
  },
  {
   "cell_type": "markdown",
   "id": "bfe363fd-8e35-41cc-9082-d1edf5da4364",
   "metadata": {},
   "source": [
    "* Use virtual environments or equivalent rather than system wide installation: **flexibility**;\n",
    "* Explicitly set package versions: **portability**;\n",
    "* Every package is both a **resource** and a **liability**: choose your dependencies wisely."
   ]
  },
  {
   "cell_type": "markdown",
   "id": "e2256d25-0dfc-488a-be87-cc0034029d4d",
   "metadata": {},
   "source": [
    "# Homework"
   ]
  },
  {
   "cell_type": "markdown",
   "id": "d71e463c-c9c8-4c42-9194-a005753c3004",
   "metadata": {},
   "source": [
    "* create a virtual environment with `venv` and install package `jupyterlab` on it.\n",
    "* use `pip freeze` to generate `requirements.txt`. Take a look:\n",
    "  - why if you install just a package, you find more than one package listed?\n",
    "  - what are those number next to every package listed?\n",
    "* **chose your favorite editor**: it will necessare to proceed. **You must be able to open, edit and save a file in it**.  \n",
    "  BEWARE: if you are using `WSL` this editor should be installed inside `WSL`.\n",
    "* Using `jupyter lab` write a function that takes a number and returns `True` if the number is prime and `False` otherwise."
   ]
  }
 ],
 "metadata": {
  "kernelspec": {
   "display_name": "Python 3 (ipykernel)",
   "language": "python",
   "name": "python3"
  },
  "language_info": {
   "codemirror_mode": {
    "name": "ipython",
    "version": 3
   },
   "file_extension": ".py",
   "mimetype": "text/x-python",
   "name": "python",
   "nbconvert_exporter": "python",
   "pygments_lexer": "ipython3",
   "version": "3.12.5"
  }
 },
 "nbformat": 4,
 "nbformat_minor": 5
}
