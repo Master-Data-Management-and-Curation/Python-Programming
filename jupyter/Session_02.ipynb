{
 "cells": [
  {
   "cell_type": "markdown",
   "id": "3197d11d-b59f-468b-a772-d169aef34425",
   "metadata": {},
   "source": [
    "# Session 02: 2024-09-27"
   ]
  },
  {
   "cell_type": "markdown",
   "id": "5f52fb64-ec60-437e-a021-bb4b8fa5a352",
   "metadata": {},
   "source": [
    "## Matteo Poggi, PhD"
   ]
  },
  {
   "cell_type": "markdown",
   "id": "b4f46298-63ae-4eac-9b1b-3665c398f000",
   "metadata": {},
   "source": [
    "# Homework Solutions"
   ]
  },
  {
   "cell_type": "markdown",
   "id": "0c75ed07-0cc4-4967-9567-ac5343808242",
   "metadata": {},
   "source": [
    "## Create `venv` and bla bla..."
   ]
  },
  {
   "cell_type": "markdown",
   "id": "a2a7ea2d-dd94-4247-80bf-0055e3e9693a",
   "metadata": {},
   "source": [
    "If you can read this, I must have done :)  \n",
    "We did yesterday in class."
   ]
  },
  {
   "cell_type": "markdown",
   "id": "73ad3ff5-a668-4341-ab0e-c6a7df531316",
   "metadata": {},
   "source": [
    "## `pip freeze`"
   ]
  },
  {
   "cell_type": "markdown",
   "id": "171f085e-5045-480a-9eb0-4207187cd95d",
   "metadata": {},
   "source": [
    "* `jupyterlab` package does not come alone. It depends on several other packages, so you see all these dependencies in the `requirements.txt` file.\n",
    "* The number next to the library name is the version of the library `==` means that that version exactly is required."
   ]
  },
  {
   "cell_type": "markdown",
   "id": "75c00bf1-2ee3-4732-9bbf-0b8225b87ea0",
   "metadata": {},
   "source": [
    "## Favorite text editor"
   ]
  },
  {
   "cell_type": "markdown",
   "id": "b050f3c1-e7b6-4e41-a1b9-6cf2a63be28f",
   "metadata": {},
   "source": [
    "It is `neovim`, for the moment."
   ]
  },
  {
   "cell_type": "markdown",
   "id": "e797a4e4-ec8c-41d5-a20d-3c1ceb89752b",
   "metadata": {},
   "source": [
    "## Prime Number Test"
   ]
  },
  {
   "cell_type": "code",
   "execution_count": null,
   "id": "7f801fac-36a0-485a-959e-2d2bc945285f",
   "metadata": {},
   "outputs": [],
   "source": [
    "from math import sqrt\n",
    "\n",
    "def is_prime(n):\n",
    "    largest_possible_divisor = int(sqrt(n)) + 1\n",
    "    if n <= 1:\n",
    "        return False\n",
    "        \n",
    "    for i in range(2, largest_possible_divisor):\n",
    "        if n % i == 0:\n",
    "            return False\n",
    "            \n",
    "    return True"
   ]
  },
  {
   "cell_type": "markdown",
   "id": "c5ee6dc2-69d8-438b-98fe-8b57990fe2b3",
   "metadata": {},
   "source": [
    "NOTE:\n",
    "  * early `return`: instead of a lo of branch (= if) blocks it is better to return the result. The code after that statement will not be executed!\n",
    "  * the function `int` transform the result of a square root `sqrt` in an interger. That's ok... But wait a minute, **where are the types here?** Follow the lecture!  "
   ]
  },
  {
   "cell_type": "markdown",
   "id": "5f6cd580-13c1-4e8b-8d50-ee4309602cdd",
   "metadata": {},
   "source": [
    "# Lecture"
   ]
  },
  {
   "cell_type": "markdown",
   "id": "e5cc1467-0a1c-49d2-a5f7-b569cf4e5238",
   "metadata": {},
   "source": [
    "## Anatomy of a Python Program"
   ]
  },
  {
   "cell_type": "code",
   "execution_count": null,
   "id": "d20e3606-f8cd-410a-abe5-6a77274b6e07",
   "metadata": {},
   "outputs": [],
   "source": [
    "#!/usr/bin/env python\n",
    "# the line before (called shbang) is optional\n",
    "\n",
    "# imports\n",
    "from math import sqrt\n",
    "\n",
    "# function definition\n",
    "def is_prime(n):\n",
    "    largest_possible_divisor = int(sqrt(n)) + 1\n",
    "    if n <= 1:\n",
    "        return False\n",
    "        \n",
    "    for i in range(2, largest_possible_divisor):\n",
    "        if n % i == 0:\n",
    "            return False\n",
    "            \n",
    "    return True\n",
    "   \n",
    "# other function definition\n",
    "def print_prime(n, prime):\n",
    "    print(f\"The number {n}\", \"is\" if prime else \"is not\", \"prime.\")\n",
    "\n",
    "# yet another function\n",
    "def test_prime(n):\n",
    "    print_prime(n, is_prime(n))\n",
    "\n",
    "# this block only runs if it is not a library\n",
    "if __name__ == \"__main__\":\n",
    "    # local constant\n",
    "    MAX = 10\n",
    "\n",
    "    for n in range(1, MAX + 1):\n",
    "        test_prime(n)"
   ]
  },
  {
   "cell_type": "markdown",
   "id": "0c271e84-aa2a-45a8-9ea8-c21f487bbeb7",
   "metadata": {},
   "source": [
    "Some comments are in order:\n",
    "  * there is a strange string preceded by `f`;\n",
    "  * there is a strange if statement inside the function `print`.\n",
    "  * there is a strange variable `__name__` that, apparently *may* be equal to `__main__`. "
   ]
  },
  {
   "cell_type": "markdown",
   "id": "3b72657d-7cae-488a-915c-3a19751a7900",
   "metadata": {},
   "source": [
    "### `f`-string"
   ]
  },
  {
   "cell_type": "markdown",
   "id": "5d69d3e5-d057-4977-9a3d-97f0416cc820",
   "metadata": {},
   "source": [
    "Stands for form *formatted strings*. The variable in curly braces are *not* considered part of the string but its value (we will see more precisely later) is printed. "
   ]
  },
  {
   "cell_type": "code",
   "execution_count": null,
   "id": "e908d820-fad9-42a0-8282-8a8d6e4d734e",
   "metadata": {},
   "outputs": [],
   "source": [
    "a = 6\n",
    "print(f\"The value of a is {a}\")     # with `f`-string\n",
    "print(\"The value of a is {a}\")      # without `f`-string"
   ]
  },
  {
   "cell_type": "markdown",
   "id": "80502197-5951-47f0-8ae4-f28daaa4738b",
   "metadata": {},
   "source": [
    "They have tons of properties ([learn more](https://docs.python.org/3/reference/lexical_analysis.html#f-strings)). They are very handy."
   ]
  },
  {
   "cell_type": "markdown",
   "id": "a883a360-1be7-42b8-9c93-e2c857d3c509",
   "metadata": {},
   "source": [
    "### inline `if`"
   ]
  },
  {
   "cell_type": "markdown",
   "id": "ce0bd0f5-25ee-4aac-81c5-80693cdabb56",
   "metadata": {},
   "source": [
    "The syntax is\n",
    "```Python\n",
    "true_value if condition else false_value\n",
    "```\n",
    "It returns `true_value` if `condition` is true, otherwise returns `false_value`.  \n",
    "(It is similar to the ternary operator `? :` in C."
   ]
  },
  {
   "cell_type": "markdown",
   "id": "4f125826-ad3c-49b4-b1c2-237a1a5835e3",
   "metadata": {},
   "source": [
    "### Attributes"
   ]
  },
  {
   "cell_type": "markdown",
   "id": "2e983752-e84c-46b9-98e9-93f8fdb7ebba",
   "metadata": {},
   "source": [
    "`__name__` is an attribute, that is a variable, of the currend module (=file). It is set automatically by Python."
   ]
  },
  {
   "cell_type": "code",
   "execution_count": null,
   "id": "ab73c2f1-a0d1-45b0-bfbf-b602903582c7",
   "metadata": {},
   "outputs": [],
   "source": [
    "__name__"
   ]
  },
  {
   "cell_type": "markdown",
   "id": "dd83e9e0-e222-4337-8693-1b51522d9942",
   "metadata": {},
   "source": [
    "Its value depends on how the current module is executed. Other attributes of the current module can be seen using function `dir()`"
   ]
  },
  {
   "cell_type": "code",
   "execution_count": null,
   "id": "306db7f8-a536-4d9f-bcef-19f14239aadf",
   "metadata": {},
   "outputs": [],
   "source": [
    "dir()"
   ]
  },
  {
   "cell_type": "markdown",
   "id": "3e87b2c8-7f8f-40f6-b919-cd0dd9a10f84",
   "metadata": {},
   "source": [
    "This function, with an argument, it is used to inspect the propery of a certain object:"
   ]
  },
  {
   "cell_type": "code",
   "execution_count": null,
   "id": "67af9d1a-0096-4cb0-b46a-c5d212b91dcd",
   "metadata": {},
   "outputs": [],
   "source": [
    "def add_one(x):\n",
    "    return x + 1\n",
    "\n",
    "dir(add_one)"
   ]
  },
  {
   "cell_type": "markdown",
   "id": "8d464e5b-95d6-4a2b-9e9e-89220ee5b6c4",
   "metadata": {},
   "source": [
    "However we will use as in the example to distinguish the \"entry\" point of a certain program. (Think of `main()` in a C program)"
   ]
  },
  {
   "cell_type": "markdown",
   "id": "74d6e1d9-f6cd-4735-a00c-01fffab68103",
   "metadata": {},
   "source": [
    "## Running Python"
   ]
  },
  {
   "cell_type": "markdown",
   "id": "a0e4832c-22ba-4922-95b8-3397815e8dc5",
   "metadata": {},
   "source": [
    "* If you want to open a Python shell interactively\n",
    "\n",
    "```bash\n",
    "(venv)$ python\n",
    "(venv)$ ipython  # requires installation\n",
    "```\n",
    "  Then you can close it with `Ctrl+D`. Once close, if you reopen you have to type again all your program.\n",
    "\n",
    "* If you want a jupyter lab notebook (we did yesterday)\n",
    "\n",
    "```bash\n",
    "(venv)$ jupyter notebook  # requires installation\n",
    "```\n",
    "\n",
    "* If you want to run a Python program.\n",
    "\n",
    "```bash\n",
    "(venv)$ python <filename>\n",
    "```\n",
    "  Then when the program reaches the end the Python shell is closed.\n",
    "\n",
    "* If you want to keep the shell open after the program reaches the end add the option `-i`\n",
    "\n",
    "```bash\n",
    "(venv)$ python -i <filename>\n",
    "```"
   ]
  },
  {
   "cell_type": "markdown",
   "id": "80a2c84a-dce3-4876-9b0c-06a3c9d2b8f7",
   "metadata": {},
   "source": [
    "## Hands on:"
   ]
  },
  {
   "cell_type": "markdown",
   "id": "e4fd05df-11e4-4bbc-b84f-813eccbbc210",
   "metadata": {},
   "source": [
    "* save the above program to a file `prime.py`;\n",
    "* execute it standalone;\n",
    "* execute it interactively (with `-i` option) and test wheter 117 is prime or not.\n",
    "\n",
    "SEE: `examples/prime/prime.py`"
   ]
  },
  {
   "cell_type": "markdown",
   "id": "acbc269c-7af8-4be1-ac9a-d87c643834e3",
   "metadata": {},
   "source": [
    "## `import`s"
   ]
  },
  {
   "cell_type": "markdown",
   "id": "c5e96635-9cec-4a4a-86cd-fb55c615be49",
   "metadata": {},
   "source": [
    "Any Python file can me imported as a module.\n",
    "\n",
    "Let us see very simple examples: `examples/prime/{main_1.py,main_2.py,main_3.py,main_4.py,main_5.py}`: in all these example we put in the same folder of the `prime.py` a `main_n.py`. Let us analyse what is going on."
   ]
  },
  {
   "cell_type": "markdown",
   "id": "01316931-e129-4c20-b97f-d9d56026881a",
   "metadata": {},
   "source": [
    "### `main_1.py`"
   ]
  },
  {
   "cell_type": "code",
   "execution_count": null,
   "id": "35f84ecf-af10-4f8f-9d48-7732e731d918",
   "metadata": {},
   "outputs": [],
   "source": [
    "import prime                          # import all the module.\n",
    "\n",
    "if __name__ == \"__main__\":\n",
    "    prime.test_prime(1117)            # functions of the module should be prefixed with `prime.`\n",
    "    print(prime.is_prime(1117))       # ditto."
   ]
  },
  {
   "cell_type": "markdown",
   "id": "290c8ab0-3391-4ac1-a8d1-f7f9154bf73b",
   "metadata": {},
   "source": [
    "Here we import all the packages. Every function should be prefixed with the module name followed by a `.`."
   ]
  },
  {
   "cell_type": "markdown",
   "id": "963fea98-a43c-4253-a763-a60d29edd13a",
   "metadata": {},
   "source": [
    "### `main_2.py`"
   ]
  },
  {
   "cell_type": "code",
   "execution_count": null,
   "id": "9446d5a9-ab66-4cac-8501-19e14c018d24",
   "metadata": {},
   "outputs": [],
   "source": [
    "from prime import *                   # import all the items present in prime modules.\n",
    "\n",
    "if __name__ == \"__main__\":\n",
    "    test_prime(1117)                  # no `prime` required here.\n",
    "    print(is_prime(1117))             # ditto."
   ]
  },
  {
   "cell_type": "markdown",
   "id": "6b9b5880-8923-4740-a662-2ed33a9194e1",
   "metadata": {},
   "source": [
    "However this is not a good practice. The guiding principle is that you have to import only the function that you use."
   ]
  },
  {
   "cell_type": "markdown",
   "id": "d9c38736-91a8-4e03-ae03-789ecd70c57e",
   "metadata": {},
   "source": [
    "### `main_3.py`"
   ]
  },
  {
   "cell_type": "code",
   "execution_count": null,
   "id": "9729fe86-1f1b-4276-9113-b4e572e2c92e",
   "metadata": {},
   "outputs": [],
   "source": [
    "from prime import test_prime, is_prime  # import only `test_prime` and `is_prime`.\n",
    "\n",
    "if __name__ == \"__main__\":\n",
    "    test_prime(1117)                    # no prime required here.\n",
    "    print(is_prime(1117))               # ditto."
   ]
  },
  {
   "cell_type": "markdown",
   "id": "556a9449-3b22-4a77-9055-2172e5129e5e",
   "metadata": {},
   "source": [
    "In this case we limited our import. So far, so good. Now suppose that in the current module there is a function defined whose name chlahses with one imported from the module `prime`. How can we solve the name clash?"
   ]
  },
  {
   "cell_type": "markdown",
   "id": "5b96acaf-dfc6-4d1a-9b71-c38ab58938d3",
   "metadata": {},
   "source": [
    "### `main_4.py`"
   ]
  },
  {
   "cell_type": "code",
   "execution_count": null,
   "id": "210a1dfa-2c2a-4571-be10-fe4997865041",
   "metadata": {},
   "outputs": [],
   "source": [
    "from prime import test_prime                   # this function is imported with the same name as defined in `prime`.\n",
    "from prime import is_prime as is_prime_number  # the function `is_prime` from `prime` in this module will be referred to as `is_prime_number`\n",
    "\n",
    "def is_prime(string):                          # the function `is_prime` in this module is that one.\n",
    "    return string == \"prime\"\n",
    "\n",
    "if __name__ == \"__main__\":\n",
    "    test_prime(1117)\n",
    "    print(is_prime_number(1117))\n",
    "    print(is_prime(\"prime\"))\n"
   ]
  },
  {
   "cell_type": "markdown",
   "id": "ccdbd8d0-d683-448b-9c7f-c16b7d4e6dcb",
   "metadata": {},
   "source": [
    "You can use `as` to create an alias on the current module. This is useful to solve name clashes and to have shorthands. It can be used also with modules."
   ]
  },
  {
   "cell_type": "markdown",
   "id": "c11fb171-1478-4476-b99b-1632fc0794d3",
   "metadata": {},
   "source": [
    "### `main_5.py`"
   ]
  },
  {
   "cell_type": "code",
   "execution_count": null,
   "id": "5fa5928c-808e-4784-a04a-d53df2c00030",
   "metadata": {},
   "outputs": [],
   "source": [
    "import prime as prm\n",
    "\n",
    "if __name__ == \"__main__\":\n",
    "    prm.test_prime(1117)\n",
    "    print(prm.is_prime(1117))"
   ]
  },
  {
   "cell_type": "markdown",
   "id": "290a22c4-32ac-46de-b9f2-74b3d372f3a4",
   "metadata": {},
   "source": [
    "Here `prm` is used instead of `prime`."
   ]
  },
  {
   "cell_type": "markdown",
   "id": "4e9ea79b-6fb9-4b51-bb6d-e0b00a0f6926",
   "metadata": {},
   "source": [
    "## Packages"
   ]
  },
  {
   "cell_type": "code",
   "execution_count": null,
   "id": "96c3bae2-042f-4f0d-a610-abea1cf227c3",
   "metadata": {},
   "outputs": [],
   "source": []
  }
 ],
 "metadata": {
  "kernelspec": {
   "display_name": "Python 3 (ipykernel)",
   "language": "python",
   "name": "python3"
  },
  "language_info": {
   "codemirror_mode": {
    "name": "ipython",
    "version": 3
   },
   "file_extension": ".py",
   "mimetype": "text/x-python",
   "name": "python",
   "nbconvert_exporter": "python",
   "pygments_lexer": "ipython3",
   "version": "3.12.5"
  }
 },
 "nbformat": 4,
 "nbformat_minor": 5
}
