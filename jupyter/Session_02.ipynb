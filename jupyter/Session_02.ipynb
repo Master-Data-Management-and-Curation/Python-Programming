{
 "cells": [
  {
   "cell_type": "markdown",
   "id": "3197d11d-b59f-468b-a772-d169aef34425",
   "metadata": {},
   "source": [
    "# Session 02: 2024-09-27"
   ]
  },
  {
   "cell_type": "markdown",
   "id": "5f52fb64-ec60-437e-a021-bb4b8fa5a352",
   "metadata": {},
   "source": [
    "## Matteo Poggi, PhD"
   ]
  },
  {
   "cell_type": "markdown",
   "id": "b4f46298-63ae-4eac-9b1b-3665c398f000",
   "metadata": {},
   "source": [
    "# Homework Solutions"
   ]
  },
  {
   "cell_type": "markdown",
   "id": "0c75ed07-0cc4-4967-9567-ac5343808242",
   "metadata": {},
   "source": [
    "## Create `venv` and bla bla..."
   ]
  },
  {
   "cell_type": "markdown",
   "id": "a2a7ea2d-dd94-4247-80bf-0055e3e9693a",
   "metadata": {},
   "source": [
    "If you can read this, I must have done :)  \n",
    "We did yesterday in class."
   ]
  },
  {
   "cell_type": "markdown",
   "id": "73ad3ff5-a668-4341-ab0e-c6a7df531316",
   "metadata": {},
   "source": [
    "## `pip freeze`"
   ]
  },
  {
   "cell_type": "markdown",
   "id": "171f085e-5045-480a-9eb0-4207187cd95d",
   "metadata": {},
   "source": [
    "* `jupyterlab` package does not come alone. It depends on several other packages, so you see all these dependencies in the `requirements.txt` file.\n",
    "* The number next to the library name is the version of the library `==` means that that version exactly is required."
   ]
  },
  {
   "cell_type": "markdown",
   "id": "75c00bf1-2ee3-4732-9bbf-0b8225b87ea0",
   "metadata": {},
   "source": [
    "## Favorite text editor"
   ]
  },
  {
   "cell_type": "markdown",
   "id": "b050f3c1-e7b6-4e41-a1b9-6cf2a63be28f",
   "metadata": {},
   "source": [
    "It is `neovim`, for the moment."
   ]
  },
  {
   "cell_type": "markdown",
   "id": "e797a4e4-ec8c-41d5-a20d-3c1ceb89752b",
   "metadata": {},
   "source": [
    "## Prime Number Test"
   ]
  },
  {
   "cell_type": "code",
   "execution_count": null,
   "id": "7f801fac-36a0-485a-959e-2d2bc945285f",
   "metadata": {},
   "outputs": [],
   "source": [
    "from math import sqrt\n",
    "\n",
    "def is_prime(n):\n",
    "    largest_possible_divisor = int(sqrt(n)) + 1\n",
    "    if n <= 1:\n",
    "        return False\n",
    "        \n",
    "    for i in range(2, largest_possible_divisor):\n",
    "        if n % i == 0:\n",
    "            return False\n",
    "            \n",
    "    return True"
   ]
  },
  {
   "cell_type": "markdown",
   "id": "c5ee6dc2-69d8-438b-98fe-8b57990fe2b3",
   "metadata": {},
   "source": [
    "NOTE:\n",
    "  * early `return`: instead of a lo of branch (= if) blocks it is better to return the result. The code after that statement will not be executed!\n",
    "  * the function `int` transform the result of a square root `sqrt` in an interger. That's ok... But wait a minute, **where are the types here?** Follow the lecture!  "
   ]
  },
  {
   "cell_type": "markdown",
   "id": "5f6cd580-13c1-4e8b-8d50-ee4309602cdd",
   "metadata": {},
   "source": [
    "# Lecture"
   ]
  },
  {
   "cell_type": "markdown",
   "id": "e5cc1467-0a1c-49d2-a5f7-b569cf4e5238",
   "metadata": {},
   "source": [
    "## Anatomy of a Python Program"
   ]
  },
  {
   "cell_type": "code",
   "execution_count": null,
   "id": "d20e3606-f8cd-410a-abe5-6a77274b6e07",
   "metadata": {},
   "outputs": [],
   "source": [
    "#!/usr/bin/env python\n",
    "# the line before (called shbang) is optional\n",
    "\n",
    "# imports\n",
    "from math import sqrt\n",
    "\n",
    "# function definition\n",
    "def is_prime(n):\n",
    "    largest_possible_divisor = int(sqrt(n)) + 1\n",
    "    if n <= 1:\n",
    "        return False\n",
    "        \n",
    "    for i in range(2, largest_possible_divisor):\n",
    "        if n % i == 0:\n",
    "            return False\n",
    "            \n",
    "    return True\n",
    "   \n",
    "# other function definition\n",
    "def print_prime(n, prime):\n",
    "    print(f\"The number {n}\", \"is\" if prime else \"is not\", \"prime.\")\n",
    "\n",
    "# yet another function\n",
    "def test_prime(n):\n",
    "    print_prime(n, is_prime(n))\n",
    "\n",
    "# this block only runs if it is not a library\n",
    "if __name__ == \"__main__\":\n",
    "    # local constant\n",
    "    MAX = 10\n",
    "\n",
    "    for n in range(1, MAX + 1):\n",
    "        test_prime(n)"
   ]
  },
  {
   "cell_type": "markdown",
   "id": "0c271e84-aa2a-45a8-9ea8-c21f487bbeb7",
   "metadata": {},
   "source": [
    "Some comments are in order:\n",
    "  * there is a strange string preceded by `f`;\n",
    "  * there is a strange if statement inside the function `print`.\n",
    "  * there is a strange variable `__name__` that, apparently *may* be equal to `__main__`. "
   ]
  },
  {
   "cell_type": "markdown",
   "id": "3b72657d-7cae-488a-915c-3a19751a7900",
   "metadata": {},
   "source": [
    "### `f`-string"
   ]
  },
  {
   "cell_type": "markdown",
   "id": "5d69d3e5-d057-4977-9a3d-97f0416cc820",
   "metadata": {},
   "source": [
    "Stands for form *formatted strings*. The variable in curly braces are *not* considered part of the string but its value (we will see more precisely later) is printed. "
   ]
  },
  {
   "cell_type": "code",
   "execution_count": null,
   "id": "e908d820-fad9-42a0-8282-8a8d6e4d734e",
   "metadata": {},
   "outputs": [],
   "source": [
    "a = 6\n",
    "print(f\"The value of a is {a}\")     # with `f`-string\n",
    "print(\"The value of a is {a}\")      # without `f`-string"
   ]
  },
  {
   "cell_type": "markdown",
   "id": "80502197-5951-47f0-8ae4-f28daaa4738b",
   "metadata": {},
   "source": [
    "They have tons of properties ([learn more](https://docs.python.org/3/reference/lexical_analysis.html#f-strings)). They are very handy."
   ]
  },
  {
   "cell_type": "markdown",
   "id": "a883a360-1be7-42b8-9c93-e2c857d3c509",
   "metadata": {},
   "source": [
    "### inline `if`"
   ]
  },
  {
   "cell_type": "markdown",
   "id": "ce0bd0f5-25ee-4aac-81c5-80693cdabb56",
   "metadata": {},
   "source": [
    "The syntax is\n",
    "```Python\n",
    "true_value if condition else false_value\n",
    "```\n",
    "It returns `true_value` if `condition` is true, otherwise returns `false_value`.  \n",
    "(It is similar to the ternary operator `? :` in C."
   ]
  },
  {
   "cell_type": "markdown",
   "id": "4f125826-ad3c-49b4-b1c2-237a1a5835e3",
   "metadata": {},
   "source": [
    "### Attributes"
   ]
  },
  {
   "cell_type": "markdown",
   "id": "2e983752-e84c-46b9-98e9-93f8fdb7ebba",
   "metadata": {},
   "source": [
    "`__name__` is an attribute, that is a variable, of the currend module (=file). It is set automatically by Python."
   ]
  },
  {
   "cell_type": "code",
   "execution_count": null,
   "id": "ab73c2f1-a0d1-45b0-bfbf-b602903582c7",
   "metadata": {},
   "outputs": [],
   "source": [
    "__name__"
   ]
  },
  {
   "cell_type": "markdown",
   "id": "dd83e9e0-e222-4337-8693-1b51522d9942",
   "metadata": {},
   "source": [
    "Its value depends on how the current module is executed. Other attributes of the current module can be seen using function `dir()`"
   ]
  },
  {
   "cell_type": "code",
   "execution_count": null,
   "id": "306db7f8-a536-4d9f-bcef-19f14239aadf",
   "metadata": {},
   "outputs": [],
   "source": [
    "dir()"
   ]
  },
  {
   "cell_type": "markdown",
   "id": "3e87b2c8-7f8f-40f6-b919-cd0dd9a10f84",
   "metadata": {},
   "source": [
    "This function, with an argument, it is used to inspect the propery of a certain object:"
   ]
  },
  {
   "cell_type": "code",
   "execution_count": null,
   "id": "67af9d1a-0096-4cb0-b46a-c5d212b91dcd",
   "metadata": {},
   "outputs": [],
   "source": [
    "def add_one(x):\n",
    "    return x + 1\n",
    "\n",
    "dir(add_one)"
   ]
  },
  {
   "cell_type": "markdown",
   "id": "8d464e5b-95d6-4a2b-9e9e-89220ee5b6c4",
   "metadata": {},
   "source": [
    "However we will use as in the example to distinguish the \"entry\" point of a certain program. (Think of `main()` in a C program)"
   ]
  },
  {
   "cell_type": "markdown",
   "id": "74d6e1d9-f6cd-4735-a00c-01fffab68103",
   "metadata": {},
   "source": [
    "## Running Python"
   ]
  },
  {
   "cell_type": "markdown",
   "id": "a0e4832c-22ba-4922-95b8-3397815e8dc5",
   "metadata": {},
   "source": [
    "* If you want to open a Python shell interactively\n",
    "\n",
    "```bash\n",
    "(venv)$ python\n",
    "(venv)$ ipython  # requires installation\n",
    "```\n",
    "  Then you can close it with `Ctrl+D`. Once close, if you reopen you have to type again all your program.\n",
    "\n",
    "* If you want a jupyter lab notebook (we did yesterday)\n",
    "\n",
    "```bash\n",
    "(venv)$ jupyter notebook  # requires installation\n",
    "```\n",
    "\n",
    "* If you want to run a Python program.\n",
    "\n",
    "```bash\n",
    "(venv)$ python <filename>\n",
    "```\n",
    "  Then when the program reaches the end the Python shell is closed.\n",
    "\n",
    "* If you want to keep the shell open after the program reaches the end add the option `-i`\n",
    "\n",
    "```bash\n",
    "(venv)$ python -i <filename>\n",
    "```"
   ]
  },
  {
   "cell_type": "markdown",
   "id": "80a2c84a-dce3-4876-9b0c-06a3c9d2b8f7",
   "metadata": {},
   "source": [
    "## Hands on:"
   ]
  },
  {
   "cell_type": "markdown",
   "id": "e4fd05df-11e4-4bbc-b84f-813eccbbc210",
   "metadata": {},
   "source": [
    "* save the above program to a file `prime.py`;\n",
    "* execute it standalone;\n",
    "* execute it interactively (with `-i` option) and test wheter 117 is prime or not.\n",
    "\n",
    "SEE: `examples/prime/prime.py`"
   ]
  },
  {
   "cell_type": "markdown",
   "id": "acbc269c-7af8-4be1-ac9a-d87c643834e3",
   "metadata": {},
   "source": [
    "## `import`s"
   ]
  },
  {
   "cell_type": "markdown",
   "id": "c5e96635-9cec-4a4a-86cd-fb55c615be49",
   "metadata": {},
   "source": [
    "Any Python file can be `import`ed as a *module*.\n",
    "\n",
    "Let us see very simple examples: `examples/prime/{main_1.py,main_2.py,main_3.py,main_4.py,main_5.py}`: in all these example we put in the same folder of the `prime.py` a `main_n.py`. Let us analyse what is going on."
   ]
  },
  {
   "cell_type": "markdown",
   "id": "01316931-e129-4c20-b97f-d9d56026881a",
   "metadata": {},
   "source": [
    "### `main_1.py`"
   ]
  },
  {
   "cell_type": "markdown",
   "id": "0ff1e6be-f655-4d44-91c6-02e68503d4fc",
   "metadata": {},
   "source": [
    "```Python\n",
    "import prime                          # import all the module.\n",
    "\n",
    "if __name__ == \"__main__\":\n",
    "    prime.test_prime(1117)            # functions of the module should be prefixed with `prime.`\n",
    "    print(prime.is_prime(1117))       # ditto.\n",
    "```"
   ]
  },
  {
   "cell_type": "markdown",
   "id": "290c8ab0-3391-4ac1-a8d1-f7f9154bf73b",
   "metadata": {},
   "source": [
    "Here we import all the packages. Every function should be prefixed with the module name followed by a `.`.  \n",
    "Notice that the code under `if __name__ == \"__main__\"` in `prime.py` is *not* executed. Can you spot the what is the value of `__name__` in this case?"
   ]
  },
  {
   "cell_type": "markdown",
   "id": "963fea98-a43c-4253-a763-a60d29edd13a",
   "metadata": {},
   "source": [
    "### `main_2.py`"
   ]
  },
  {
   "cell_type": "markdown",
   "id": "8cd1022d-3e70-444c-8746-c35708c4355b",
   "metadata": {},
   "source": [
    "```Python\n",
    "from prime import *                   # import all the items present in prime modules.\n",
    "\n",
    "if __name__ == \"__main__\":\n",
    "    test_prime(1117)                  # no `prime` required here.\n",
    "    print(is_prime(1117))             # ditto.\n",
    "```"
   ]
  },
  {
   "cell_type": "markdown",
   "id": "6b9b5880-8923-4740-a662-2ed33a9194e1",
   "metadata": {},
   "source": [
    "However this is not a good practice. The guiding principle is that you have to import only the function that you use."
   ]
  },
  {
   "cell_type": "markdown",
   "id": "d9c38736-91a8-4e03-ae03-789ecd70c57e",
   "metadata": {},
   "source": [
    "### `main_3.py`"
   ]
  },
  {
   "cell_type": "markdown",
   "id": "ab741f8b-8580-480e-b926-66ea1ed86d8f",
   "metadata": {},
   "source": [
    "```Python\n",
    "from prime import test_prime, is_prime  # import only `test_prime` and `is_prime`.\n",
    "\n",
    "if __name__ == \"__main__\":\n",
    "    test_prime(1117)                    # no prime required here.\n",
    "    print(is_prime(1117))               # ditto.\n",
    "```"
   ]
  },
  {
   "cell_type": "markdown",
   "id": "556a9449-3b22-4a77-9055-2172e5129e5e",
   "metadata": {},
   "source": [
    "In this case we limited our import. So far, so good. Now suppose that in the current module there is a function defined whose name chlahses with one imported from the module `prime`. How can we solve the name clash?"
   ]
  },
  {
   "cell_type": "markdown",
   "id": "5b96acaf-dfc6-4d1a-9b71-c38ab58938d3",
   "metadata": {},
   "source": [
    "### `main_4.py`"
   ]
  },
  {
   "cell_type": "markdown",
   "id": "5ac82a8e-5171-4a0c-9f3e-db6cd25a0f01",
   "metadata": {},
   "source": [
    "```Python\n",
    "from prime import test_prime                   # this function is imported with the same name as defined in `prime`.\n",
    "from prime import is_prime as is_prime_number  # the function `is_prime` from `prime` in this module will be referred to as `is_prime_number`\n",
    "\n",
    "def is_prime(string):                          # the function `is_prime` in this module is that one.\n",
    "    return string == \"prime\"\n",
    "\n",
    "if __name__ == \"__main__\":\n",
    "    test_prime(1117)\n",
    "    print(is_prime_number(1117))\n",
    "    print(is_prime(\"prime\"))\n",
    "```"
   ]
  },
  {
   "cell_type": "markdown",
   "id": "ccdbd8d0-d683-448b-9c7f-c16b7d4e6dcb",
   "metadata": {},
   "source": [
    "You can use `as` to create an alias on the current module. This is useful to solve name clashes and to have shorthands. It can be used also with modules."
   ]
  },
  {
   "cell_type": "markdown",
   "id": "c11fb171-1478-4476-b99b-1632fc0794d3",
   "metadata": {},
   "source": [
    "### `main_5.py`"
   ]
  },
  {
   "cell_type": "markdown",
   "id": "5b29c067-6553-4954-989b-bf9ca25bf6c5",
   "metadata": {},
   "source": [
    "```Python\n",
    "import prime as prm\n",
    "\n",
    "if __name__ == \"__main__\":\n",
    "    prm.test_prime(1117)\n",
    "    print(prm.is_prime(1117))\n",
    "```"
   ]
  },
  {
   "cell_type": "markdown",
   "id": "290a22c4-32ac-46de-b9f2-74b3d372f3a4",
   "metadata": {},
   "source": [
    "Here `prm` is used instead of `prime`."
   ]
  },
  {
   "cell_type": "markdown",
   "id": "4e9ea79b-6fb9-4b51-bb6d-e0b00a0f6926",
   "metadata": {},
   "source": [
    "## Packages"
   ]
  },
  {
   "cell_type": "markdown",
   "id": "ed3d4a2b-3f47-4433-8e60-1c9cdac54462",
   "metadata": {},
   "source": [
    "Any folder containing a magic `__init__.py` is a *package*.\n",
    "\n",
    "A typical packages has the following dir structure\n",
    "\n",
    "\n",
    "```bash\n",
    "mypkg  # <- package root\n",
    "├── __init__.py\n",
    "├── subpkgA  # <- a subpackage\n",
    "│  ├── __init__.py\n",
    "│  ├── spkgA_mod0.py  # <- a module\n",
    "│  └── spkgA_mod1.py  # <- another module\n",
    "└── subpkgB\n",
    "   ├── __init__.py\n",
    "   └── spkgB_mod0.py\n",
    "```\n",
    "\n",
    "The environment variable `$PYTHONPATH` defines the order to search for packages. Its content is also accessible from within Python in `sys.path`."
   ]
  },
  {
   "cell_type": "code",
   "execution_count": null,
   "id": "21f03d74-fd1f-4a8d-b77a-901345a98b56",
   "metadata": {},
   "outputs": [],
   "source": [
    "import sys\n",
    "sys.path"
   ]
  },
  {
   "cell_type": "markdown",
   "id": "099471a2-ba0e-4f88-8f55-c31f1d58d297",
   "metadata": {},
   "source": [
    "Reminder: try to run this inside and outside the `venv`. What do you see?"
   ]
  },
  {
   "cell_type": "markdown",
   "id": "328f8e82-6942-47fb-bea3-239ee3e2a01a",
   "metadata": {},
   "source": [
    "### Relative `import`s"
   ]
  },
  {
   "cell_type": "markdown",
   "id": "3396faba-ebb5-4611-97d5-52643950d2fa",
   "metadata": {},
   "source": [
    "* very useful when developing a large library or project AND the directory structure is consolidated\n",
    "* should be **avoided** in all other instances"
   ]
  },
  {
   "cell_type": "markdown",
   "id": "eb989c1e-4bee-4c94-b876-31ba3231aa75",
   "metadata": {},
   "source": [
    "```bash\n",
    "mypkg  # <- package root\n",
    "├── __init__.py\n",
    "├── subpkgA  # <- a subpackage\n",
    "│  ├── __init__.py\n",
    "│  ├── spkgA_mod0.py  # <- a module\n",
    "│  └── spkgA_mod1.py  # <- another module\n",
    "└── subpkgB\n",
    "   ├── __init__.py\n",
    "   └── spkgB_mod0.py\n",
    "```\n",
    "\n",
    "```python\n",
    "# file mypkg/subpkgA/__init__.py\n",
    "\n",
    "from .spkgA_mod0 import item0, item1\n",
    "from ..subpkgB.spkgB_mod0 import other_item as alias_name\n",
    "```\n",
    "\n",
    "Ref: [Realpython: Absolute vs relative imports](https://realpython.com/absolute-vs-relative-python-imports/)"
   ]
  },
  {
   "cell_type": "markdown",
   "id": "40d7706f-778b-435b-86f3-d6a56a504ace",
   "metadata": {},
   "source": [
    "### `__init__.py` file"
   ]
  },
  {
   "cell_type": "markdown",
   "id": "1fb8fd1c-e780-49de-9ca9-e64c1c90e5eb",
   "metadata": {},
   "source": [
    "* Can contain actual code and definitions\n",
    "* Often used to define the public interface to more complex packages\n",
    "  * imports the public definitions from private packages\n",
    "  * often contains a variable `__all__`\n",
    "    * it lists the names available with the syntax `from <module> import *`\n",
    "\n",
    "```python\n",
    "# file __init__.py\n",
    "\n",
    "from .private_module import public_definition\n",
    "from .other_public_module import *\n",
    "\n",
    "__all__ = (\"public_definition\") + other_public_module.__all__\n",
    "```"
   ]
  },
  {
   "cell_type": "markdown",
   "id": "299239e1-c2d6-4974-a7cf-a3a2a3647017",
   "metadata": {},
   "source": [
    "## Types and typing"
   ]
  },
  {
   "cell_type": "markdown",
   "id": "6e176207-1844-41bf-b7b6-37cf8dc36516",
   "metadata": {},
   "source": [
    "Typing discipline:\n",
    " * strong\n",
    " * dynamic\n",
    "\n",
    "Builtin types:\n",
    "\n",
    "* boolean: `bool`\n",
    "* numeric: `int, float, complex`\n",
    "* byte arrays: `bytes, bytearrays`\n",
    "* strings: `str`  (\"immutable sequences of Unicode points\")\n",
    "\n",
    "* array-like: `list, tuple; set, frozenset; range`\n",
    "* mappings: `dict`"
   ]
  },
  {
   "cell_type": "markdown",
   "id": "7f8ec89d-6c57-4d01-9b6f-cfabc7736252",
   "metadata": {},
   "source": [
    "**everything** is an object\n",
    "\n",
    "Moreover every object has three properties:\n",
    "  * identity `id` operator\n",
    "  * type `type` operator\n",
    "  * value"
   ]
  },
  {
   "cell_type": "code",
   "execution_count": null,
   "id": "85c7fa50-9aec-4d8e-8941-7fb4f60168e0",
   "metadata": {},
   "outputs": [],
   "source": [
    "a = True\n",
    "print(id(a))    # id\n",
    "print(type(a))  # type\n",
    "print(a)        # value\n",
    "\n",
    "a = -19.65\n",
    "print(id(a))    # id has changed\n",
    "print(type(a))  # type has changed\n",
    "print(a)"
   ]
  },
  {
   "cell_type": "markdown",
   "id": "fc012378-6e31-4f2d-9214-8cbaf1fd6e57",
   "metadata": {},
   "source": [
    "the operator `is` tests whether id of two object is the same"
   ]
  },
  {
   "cell_type": "code",
   "execution_count": null,
   "id": "2ade56ed-aed3-4168-8c06-e0ba8d1f249a",
   "metadata": {},
   "outputs": [],
   "source": [
    "a = 42.56\n",
    "b = a\n",
    "print(a is b)\n",
    "print(id(a), id(b))"
   ]
  },
  {
   "cell_type": "markdown",
   "id": "fc9a89b3-8745-4e00-a6ae-c964564aff6d",
   "metadata": {},
   "source": [
    "Notice also that Python cache some simple objects (i.e. integer number)"
   ]
  },
  {
   "cell_type": "code",
   "execution_count": null,
   "id": "28952e0a-2748-4f2d-9533-262b8c590e5f",
   "metadata": {},
   "outputs": [],
   "source": [
    "a = 4\n",
    "b = 4\n",
    "print(a is b)"
   ]
  },
  {
   "cell_type": "markdown",
   "id": "ce09a217-7c97-428d-8e37-a521d4fae8b9",
   "metadata": {},
   "source": [
    "... up to a certain value"
   ]
  },
  {
   "cell_type": "code",
   "execution_count": null,
   "id": "d353205e-1863-4b8e-9fc0-6e70e96d24c5",
   "metadata": {},
   "outputs": [],
   "source": [
    "a = 1000\n",
    "b = 1000\n",
    "print(a is b)"
   ]
  },
  {
   "cell_type": "markdown",
   "id": "ccd0f9c5-03ee-4567-85a0-627488048761",
   "metadata": {},
   "source": [
    "### Mutability"
   ]
  },
  {
   "cell_type": "markdown",
   "id": "aba09a24-dfa0-4d03-ad2e-d69002e67fd4",
   "metadata": {},
   "source": [
    "An object is mutable if you can change its content without changing its id"
   ]
  },
  {
   "cell_type": "code",
   "execution_count": null,
   "id": "dc14b477-2255-4610-ad69-8df628c64b58",
   "metadata": {},
   "outputs": [],
   "source": [
    "obj = []\n",
    "id(obj)"
   ]
  },
  {
   "cell_type": "code",
   "execution_count": null,
   "id": "2629eab7-ebd5-4ad9-82a8-234f5f0e067c",
   "metadata": {},
   "outputs": [],
   "source": [
    "obj.append(42)\n",
    "id(obj)"
   ]
  },
  {
   "cell_type": "code",
   "execution_count": null,
   "id": "409da9e5-2c35-4004-8b70-082ab21b0c19",
   "metadata": {},
   "outputs": [],
   "source": [
    "obj = 3\n",
    "id(obj)"
   ]
  },
  {
   "cell_type": "code",
   "execution_count": null,
   "id": "6687ef41-02f0-4df1-901c-07e46132527f",
   "metadata": {},
   "outputs": [],
   "source": [
    "obj += 4\n",
    "id(obj)"
   ]
  },
  {
   "cell_type": "markdown",
   "id": "ce1e27d2-c9d0-49e1-82c5-d76b011fcb4d",
   "metadata": {},
   "source": [
    "### Pass by value or pass by reference?"
   ]
  },
  {
   "cell_type": "markdown",
   "id": "c395d5a9-8204-4465-b49e-dbaa531721d0",
   "metadata": {},
   "source": [
    "**Neither!**\n",
    "\n",
    "#### Pass by assignment:\n",
    "  * mutable types are just aliased (~reference):\n",
    "    - `bytearray`\n",
    "    - `list`\n",
    "    - `set`\n",
    "    - `dict`\n",
    "  * immutable types are recreated anew (~value):\n",
    "    - `bool`\n",
    "    - `int`\n",
    "    - `float`\n",
    "    - `complex`\n",
    "    - `bytes`\n",
    "    - `str`\n",
    "    - `tuple`\n",
    "    - `range`\n",
    "    - `frozenset` "
   ]
  },
  {
   "cell_type": "markdown",
   "id": "967b24bf-fb44-43fe-bf5c-724fa46cf4ec",
   "metadata": {},
   "source": [
    "**BEWARE** : side effect ahead\n",
    "\n",
    "This it what happens for a mutable type."
   ]
  },
  {
   "cell_type": "code",
   "execution_count": null,
   "id": "680ca8f1-3c16-4b65-bb04-729ee3c9526a",
   "metadata": {},
   "outputs": [],
   "source": [
    "def foo(mylist):\n",
    "    mylist.append(42)\n",
    "\n",
    "x = []\n",
    "foo(x)      # this modify the list in the outer scope\n",
    "print(x)"
   ]
  },
  {
   "cell_type": "markdown",
   "id": "b7696192-0c0a-4870-a644-b7fca2ccf48d",
   "metadata": {},
   "source": [
    "And this is what happens for an immutable type"
   ]
  },
  {
   "cell_type": "code",
   "execution_count": null,
   "id": "6c00f403-76f5-4c70-a89b-5702c5ff4a25",
   "metadata": {},
   "outputs": [],
   "source": [
    "def bar(y):\n",
    "    y += 5\n",
    "\n",
    "x = 6\n",
    "bar(x)\n",
    "print(x)"
   ]
  },
  {
   "cell_type": "markdown",
   "id": "da490779-8a2e-4239-81fa-4b36efe57be2",
   "metadata": {},
   "source": [
    "**BEWARE**: buggy code"
   ]
  },
  {
   "cell_type": "code",
   "execution_count": null,
   "id": "c63e6e79-3070-48eb-8048-6552cbb923d8",
   "metadata": {},
   "outputs": [],
   "source": [
    "def bar(mylist=[]):\n",
    "    mylist.append(42)\n",
    "    print(mylist)\n",
    "    \n",
    "bar()\n",
    "bar()    # the default value, being mutable, is updated every time"
   ]
  },
  {
   "cell_type": "markdown",
   "id": "cd0fb588-bda9-4078-90ab-62688a4cd1cb",
   "metadata": {},
   "source": [
    "possible solution"
   ]
  },
  {
   "cell_type": "code",
   "execution_count": null,
   "id": "cf8cd49f-a455-44e5-977e-e3ca1ed6553a",
   "metadata": {},
   "outputs": [],
   "source": [
    "def bar(mylist=None):\n",
    "    if mylist is None:\n",
    "        mylist = []\n",
    "        \n",
    "    mylist.append(42)\n",
    "    print(mylist)"
   ]
  },
  {
   "cell_type": "markdown",
   "id": "115cc5cd-e5ae-464e-b88a-22833b293870",
   "metadata": {},
   "source": [
    "### Copying mutable objects"
   ]
  },
  {
   "cell_type": "code",
   "execution_count": null,
   "id": "7a4432e8-7f30-457b-b084-2d5f44816374",
   "metadata": {},
   "outputs": [],
   "source": [
    "sublist = [\"sub\", \"list\"]\n",
    "mylist = [sublist]\n",
    "\n",
    "mylist_copy = mylist.copy()\n",
    "mylist_copy[0] is sublist     # reference to the original list"
   ]
  },
  {
   "cell_type": "markdown",
   "id": "db06ffa4-65ce-4838-a2e3-9b1cc103a507",
   "metadata": {},
   "source": [
    "Let us try to append an element to the sublist copy..."
   ]
  },
  {
   "cell_type": "code",
   "execution_count": null,
   "id": "30d62767-7498-424d-92af-fd4194e09e3a",
   "metadata": {},
   "outputs": [],
   "source": [
    "mylist_copy[0].append(\"bye\")\n",
    "mylist_copy[0]"
   ]
  },
  {
   "cell_type": "markdown",
   "id": "0a054949-3c91-411e-86e6-34721810ca69",
   "metadata": {},
   "source": [
    "Let us check what happen to the \"original\" sublist..."
   ]
  },
  {
   "cell_type": "code",
   "execution_count": null,
   "id": "39ad67d9-78ea-4c97-8b25-6ef302f59ddf",
   "metadata": {},
   "outputs": [],
   "source": [
    "mylist[0]"
   ]
  },
  {
   "cell_type": "markdown",
   "id": "7642c457-7b84-4b86-99c0-73f523134cbb",
   "metadata": {},
   "source": [
    "It is also here!\n",
    "\n",
    "What we need is a **deep copy**:"
   ]
  },
  {
   "cell_type": "code",
   "execution_count": null,
   "id": "dcf24ea9-2056-4119-946f-03b3f2c9df0c",
   "metadata": {},
   "outputs": [],
   "source": [
    "from copy import deepcopy\n",
    "\n",
    "mylist_deepcopy = deepcopy(mylist)\n",
    "mylist_deepcopy[0] is sublist  # a different object!"
   ]
  },
  {
   "cell_type": "markdown",
   "id": "e7bba6d2-9020-42e3-b561-438e68de9be7",
   "metadata": {},
   "source": [
    "Let us append an element to the sublist deep copy:"
   ]
  },
  {
   "cell_type": "code",
   "execution_count": null,
   "id": "5b80fedd-5d0b-45b8-a650-26bfe453761e",
   "metadata": {},
   "outputs": [],
   "source": [
    "mylist_deepcopy[0].append(\"Hello\")"
   ]
  },
  {
   "cell_type": "code",
   "execution_count": null,
   "id": "769cffe8-fb43-4302-a344-16930c43ab53",
   "metadata": {},
   "outputs": [],
   "source": [
    "mylist_deepcopy[0]"
   ]
  },
  {
   "cell_type": "markdown",
   "id": "5d09a948-e0e9-48cf-8b4b-a6932771ceca",
   "metadata": {},
   "source": [
    "And check if it has some effects to the \"original\""
   ]
  },
  {
   "cell_type": "code",
   "execution_count": null,
   "id": "467560dd-4ab1-4824-8426-037a1235071c",
   "metadata": {},
   "outputs": [],
   "source": [
    "mylist[0]"
   ]
  },
  {
   "cell_type": "markdown",
   "id": "bafc1a86-c4b7-44f8-9283-8cc8c5fda405",
   "metadata": {},
   "source": [
    "It does not. Original and deep-copied sublist are independent."
   ]
  },
  {
   "cell_type": "markdown",
   "id": "b6729a12-e1f4-412d-8be9-ad8411bf1140",
   "metadata": {},
   "source": [
    "## an appetizer of Classes"
   ]
  },
  {
   "cell_type": "markdown",
   "id": "ddce8e54-a5b3-485e-ad53-82621ad7f88d",
   "metadata": {},
   "source": [
    "*more on class later*"
   ]
  },
  {
   "cell_type": "code",
   "execution_count": null,
   "id": "c83d4881-118b-40ff-a8d6-91d7277a0562",
   "metadata": {},
   "outputs": [],
   "source": [
    "class MyClass(object):\n",
    "    \"\"\"\n",
    "    class docstring\n",
    "    \"\"\"\n",
    "    \n",
    "    def __init__(self, variable):\n",
    "        \"\"\"\n",
    "        Initialization or costructor\n",
    "        \"\"\"\n",
    "        self._variable = variable\n",
    "    \n",
    "    def print_variable_n_times(self, n):\n",
    "        \"\"\"\n",
    "        Method\n",
    "        \"\"\"\n",
    "        for i in range(n):\n",
    "            print(self._variable)\n",
    "        \n",
    "instance = MyClass(42)\n",
    "instance.print_variable_n_times(5)"
   ]
  },
  {
   "cell_type": "markdown",
   "id": "c20ccbd4-9190-4c66-bf9a-97f1b10dc071",
   "metadata": {},
   "source": [
    "One can also check instance variable directly:"
   ]
  },
  {
   "cell_type": "code",
   "execution_count": null,
   "id": "f97a4bd7-b9e8-410c-9e46-198ee1119ba7",
   "metadata": {},
   "outputs": [],
   "source": [
    "instance._variable"
   ]
  },
  {
   "cell_type": "markdown",
   "id": "4a8429ea-9373-4f34-8edf-23aeef4023ba",
   "metadata": {},
   "source": [
    "## Exceptions"
   ]
  },
  {
   "cell_type": "markdown",
   "id": "acf1b242-aa0d-4ea3-8834-de4ddca0934b",
   "metadata": {},
   "source": [
    "* **NOTE** not all exceptions are errors!\n",
    "* but all exceptions inherit from `Exception`\n",
    "\n",
    "### `try`, `except`,  [`else`, `finally`]\n",
    "\n",
    "```python\n",
    "try:\n",
    "    exception_prone_logic()\n",
    "except MyException as e:\n",
    "    # the `as e` above is optional\n",
    "    exception_handling(e)\n",
    "else:\n",
    "    execute_if_no_exception()\n",
    "finally:\n",
    "    always_execute()\n",
    "```"
   ]
  },
  {
   "cell_type": "code",
   "execution_count": null,
   "id": "48d00c07-24b7-47bd-aa7c-883d94b17605",
   "metadata": {},
   "outputs": [],
   "source": [
    "def foo(x):\n",
    "    try:\n",
    "        fourth_element = x[3]\n",
    "    except (TypeError, IndexError) as e:\n",
    "        print(f\"This error was raised: {e}\")\n",
    "        x = [40, 2]\n",
    "    except Exception as e:\n",
    "        print(\"Unexpected exception\")\n",
    "        raise e\n",
    "    else:\n",
    "        print(f\"fourth element is {fourth_element}\")\n",
    "    finally:\n",
    "        print(sum(x))\n",
    "\n",
    "foo(5)\n",
    "print(\"----\")\n",
    "foo([3,4,5])\n",
    "print(\"----\")\n",
    "foo([1,2,3,4])"
   ]
  },
  {
   "cell_type": "markdown",
   "id": "63173cd2-acda-4c9c-8d32-01efb2295c83",
   "metadata": {},
   "source": [
    "### Is `finally` needed?"
   ]
  },
  {
   "cell_type": "code",
   "execution_count": null,
   "id": "517bf72c-a994-4352-b6cc-a4773667ddd3",
   "metadata": {},
   "outputs": [],
   "source": [
    "def bar_finally(x):\n",
    "    try:\n",
    "        fourth_element = x[3]\n",
    "    except (TypeError, IndexError) as e:\n",
    "        print(f\"This error was raised: {e}\")\n",
    "        return 0\n",
    "    else:\n",
    "        return sum(x) - fourth_element\n",
    "    finally:\n",
    "        print(\"Here I'm\")"
   ]
  },
  {
   "cell_type": "code",
   "execution_count": null,
   "id": "09382891-8ccd-4b66-b754-026e5c45323c",
   "metadata": {},
   "outputs": [],
   "source": [
    "def bar_no_finally(x):\n",
    "    try:\n",
    "        fourth_element = x[3]\n",
    "    except (TypeError, IndexError) as e:\n",
    "        print(f\"This error was raised: {e}\")\n",
    "        return 0\n",
    "    else:\n",
    "        return sum(x) - fourth_element\n",
    "\n",
    "    print(\"Here I'm\")"
   ]
  },
  {
   "cell_type": "code",
   "execution_count": null,
   "id": "5e30166d-aeec-4e28-9c0b-c5d3aaf2b049",
   "metadata": {},
   "outputs": [],
   "source": [
    "bar_finally(5)"
   ]
  },
  {
   "cell_type": "code",
   "execution_count": null,
   "id": "1bb7e384-9c83-4f9e-9b5c-582b7293b67f",
   "metadata": {},
   "outputs": [],
   "source": [
    "bar_no_finally(5)"
   ]
  },
  {
   "cell_type": "markdown",
   "id": "240de50c-a101-45f3-af11-e419c728737f",
   "metadata": {},
   "source": [
    "Yes, sometimes it is needed because it is executed even if the function returns."
   ]
  },
  {
   "cell_type": "markdown",
   "id": "36e0eba2-ac74-406a-bf29-4ceadfb4005b",
   "metadata": {},
   "source": [
    "### to `raise` an Exception"
   ]
  },
  {
   "cell_type": "markdown",
   "id": "bb92e50d-8b3d-4bf7-a88e-ea40bb5591f9",
   "metadata": {},
   "source": [
    "When you are writing a program you may want to propagate/emit an exception. In Python this is done with the keyword `raise`:"
   ]
  },
  {
   "cell_type": "markdown",
   "id": "3e37230f-74c0-4a79-8558-9a7729c4100d",
   "metadata": {},
   "source": [
    "```Python\n",
    "raise RuntimeError(\"A runtime error has occurred.\")\n",
    "```"
   ]
  },
  {
   "cell_type": "markdown",
   "id": "413cbf5f-a485-4a4b-8ba0-95a3832bc5e9",
   "metadata": {},
   "source": [
    "# Intermezzo: Lab Session"
   ]
  },
  {
   "cell_type": "markdown",
   "id": "de6ab92e-693a-4df0-9ab6-a4d5122d618b",
   "metadata": {},
   "source": [
    "Here we will try to retrieve some *data* from the website [Our World in Data](https://ourworldindata.org/).\n",
    "\n",
    "This website comes with a python API (the package [owid-catalog](https://pypi.org/project/owid-catalog/)) that allows you to retrieve datas. (see [docs](https://docs.owid.io/projects/etl/api/covid/))"
   ]
  },
  {
   "cell_type": "markdown",
   "id": "c8fbdf8a-be83-44ee-bed9-b0323f05a1de",
   "metadata": {},
   "source": [
    "## What is an API?"
   ]
  },
  {
   "cell_type": "markdown",
   "id": "4e06c3e3-e74f-4f90-aa3e-5d2ced417815",
   "metadata": {},
   "source": [
    "* It stands for Application Programming Interface. It is a library, a collection of utilities (functions, classes, ect.) that you can use from your python code.\n",
    "* It is not a program because it does not contain an \"entry point\".\n",
    "* One can wrap a library in a program allowing the non-programmer user to use it:\n",
    "  - CLI (Command Line Interface)\n",
    "  - TUI (Text User Interface)\n",
    "  - GUI (Graphical User Interface) "
   ]
  },
  {
   "cell_type": "markdown",
   "id": "333eb2fc-984e-47ba-a372-49ae2078be7f",
   "metadata": {},
   "source": [
    "## Step 0"
   ]
  },
  {
   "cell_type": "markdown",
   "id": "8a117a34-dbc4-4804-80a4-5da5d93ce45d",
   "metadata": {},
   "source": [
    "* setup a clean environment using `pip`\n",
    "* install the package `owid-catalog`"
   ]
  },
  {
   "cell_type": "markdown",
   "id": "bc830315-e250-46b1-89ec-96fa8e81ab17",
   "metadata": {},
   "source": [
    "## Step 1"
   ]
  },
  {
   "cell_type": "markdown",
   "id": "6c4d85a4-322a-455d-ba2a-08b089717297",
   "metadata": {},
   "source": [
    "* open a Python shell\n",
    "* import `owid-catalog` packages following docs\n",
    "* use the `find` function of the package querying `'covid'`, from the namespace `'owid'`. (If you do not kwno how to do, ask help)\n",
    "\n",
    "  in particular chekout the `URI` (aka `path`) of the dataset we want to retrieve."
   ]
  },
  {
   "cell_type": "markdown",
   "id": "c579039c-31a2-4ce2-8e3c-e9e4eb8d8898",
   "metadata": {},
   "source": [
    "## Step 2"
   ]
  },
  {
   "cell_type": "markdown",
   "id": "b87cae8c-ffbc-49eb-953c-b78fe1c3c264",
   "metadata": {},
   "source": [
    "* install `jupyterlab` package with `pip`\n",
    "* run `jupyter lab`\n",
    "* repeat Step 1 within Jupyter Lab"
   ]
  },
  {
   "cell_type": "markdown",
   "id": "82e8c38e-e3bf-400a-901c-d968c9e3c573",
   "metadata": {},
   "source": [
    "### Solution"
   ]
  },
  {
   "cell_type": "code",
   "execution_count": null,
   "id": "91e576e3-fcd6-49eb-9ec7-85826a1602a1",
   "metadata": {},
   "outputs": [],
   "source": [
    "from owid import catalog\n",
    "\n",
    "catalog.find(\"covid\", namespace=\"owid\")"
   ]
  },
  {
   "cell_type": "markdown",
   "id": "cd3aae0e-f8d5-4645-9dc4-470bb49673af",
   "metadata": {},
   "source": [
    "## Step 3"
   ]
  },
  {
   "cell_type": "markdown",
   "id": "5ebd71ce-946f-4557-9938-b5ba91d39a9f",
   "metadata": {},
   "source": [
    "* initlialize a `RemoteCatalog` object and call it `rc`\n",
    "* query `rc` the `URI` retreived in Step 1 and 2 and call it `data`."
   ]
  },
  {
   "cell_type": "markdown",
   "id": "f5df065d-ef2f-42fe-a745-76449b5b38a4",
   "metadata": {},
   "source": [
    "### Solution"
   ]
  },
  {
   "cell_type": "code",
   "execution_count": null,
   "id": "886f3e08-2531-4c65-97eb-3ed43b50e51d",
   "metadata": {},
   "outputs": [],
   "source": [
    "rc = catalog.RemoteCatalog()\n",
    "uri = \"garden/owid/latest/covid/covid\"\n",
    "data = rc[uri]"
   ]
  },
  {
   "cell_type": "markdown",
   "id": "ddf84e61-30a7-488d-95d6-26771aa33ab8",
   "metadata": {},
   "source": [
    "## Step 4"
   ]
  },
  {
   "cell_type": "markdown",
   "id": "adc97b65-7876-4f60-8509-89c3523fa786",
   "metadata": {},
   "source": [
    "write a python program `owid-covid.py` with the following requirements:\n",
    "  * it has to retrieve the data as we did above\n",
    "  * it ha to contain a function like\n",
    "  ```Python\n",
    "  def save_data(uri, path):\n",
    "      pass\n",
    "  ```\n",
    "  that is able to save the `data` retrieved above as `csv`. Call the file `owid-covid.csv`. (Hint use method `.to_csv` on variable `data`)"
   ]
  },
  {
   "cell_type": "markdown",
   "id": "ca7b3c67-a9f0-4621-bb15-84a81425db4e",
   "metadata": {},
   "source": [
    "### Solution"
   ]
  },
  {
   "cell_type": "markdown",
   "id": "5c34bd05-7c3d-42a2-b7b7-a6c4ecc1930c",
   "metadata": {},
   "source": [
    "see `examples/owid-covid`. However the funtion is"
   ]
  },
  {
   "cell_type": "code",
   "execution_count": null,
   "id": "4954cd6e-bfa0-4a9c-8017-2381b17e26f4",
   "metadata": {},
   "outputs": [],
   "source": [
    "def save_data(uri, path):\n",
    "    rc = catalog.RemoteCatalog()\n",
    "    data = rc[uri]\n",
    "    data.to_csv(path)"
   ]
  },
  {
   "cell_type": "markdown",
   "id": "faae755f-2a59-43cd-9a84-72c719a49444",
   "metadata": {},
   "source": [
    "## Step 5"
   ]
  },
  {
   "cell_type": "markdown",
   "id": "2fefa1f6-5299-4331-bb35-d4ad0d38e873",
   "metadata": {},
   "source": [
    "* Refactor the code above extacting a package named `covidlib` containing a the module `retriever.py` containing the function `save_data`.\n",
    "* Write a `main.py` program using that library."
   ]
  },
  {
   "cell_type": "markdown",
   "id": "48381549-0902-4920-89d1-deffce36b9bb",
   "metadata": {},
   "source": [
    "### Solution"
   ]
  },
  {
   "cell_type": "markdown",
   "id": "388c9e2c-1234-4624-bca4-f833c9ecdc43",
   "metadata": {},
   "source": [
    "see `examples/covidlib`."
   ]
  },
  {
   "cell_type": "markdown",
   "id": "ad7f30dc-0258-4ed3-9077-a1f51826f83c",
   "metadata": {},
   "source": [
    "## Step 6"
   ]
  },
  {
   "cell_type": "markdown",
   "id": "60ad4067-1091-428d-b2e2-b421a0869db2",
   "metadata": {},
   "source": [
    "* What happen if one make a mistake in the `URI`?\n",
    "* Wrap the body of the `save_data` function in a `try`-`except` block. If there is an exception of the a certain type, raise a `RuntimeError` exception informing the user that the `URI` does not exist.\n",
    "* In the main program run the function `save_data` in another `try`-`except` lock. In the `RuntimeError` is caught, handle it terminating the program gently and printing the error message."
   ]
  },
  {
   "cell_type": "markdown",
   "id": "b4044513-08a5-4ede-a085-6a0e219506fa",
   "metadata": {},
   "source": [
    "### Solution"
   ]
  },
  {
   "cell_type": "code",
   "execution_count": null,
   "id": "cef4d167-7cde-4e86-a00c-1473f657797a",
   "metadata": {},
   "outputs": [],
   "source": [
    "# library\n",
    "def save_data(uri, path):\n",
    "    rc = catalog.RemoteCatalog()\n",
    "    try:\n",
    "        data = rc[uri]\n",
    "    except KeyError:\n",
    "        raise RuntimeError(f\"The URI {uri} does not exist.\")\n",
    "    data.to_csv(path)"
   ]
  },
  {
   "cell_type": "code",
   "execution_count": null,
   "id": "b976565f-2b5a-4baf-99b0-42589f968669",
   "metadata": {},
   "outputs": [],
   "source": [
    "# main program\n",
    "try:\n",
    "    save_data(\"pippo\", \"pippo.csv\")\n",
    "except RuntimeError as error:\n",
    "    print(error)"
   ]
  }
 ],
 "metadata": {
  "kernelspec": {
   "display_name": "Python 3 (ipykernel)",
   "language": "python",
   "name": "python3"
  },
  "language_info": {
   "codemirror_mode": {
    "name": "ipython",
    "version": 3
   },
   "file_extension": ".py",
   "mimetype": "text/x-python",
   "name": "python",
   "nbconvert_exporter": "python",
   "pygments_lexer": "ipython3",
   "version": "3.12.5"
  }
 },
 "nbformat": 4,
 "nbformat_minor": 5
}
